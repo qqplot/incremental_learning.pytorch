{
 "cells": [
  {
   "cell_type": "code",
   "execution_count": 4,
   "metadata": {},
   "outputs": [
    {
     "name": "stdout",
     "output_type": "stream",
     "text": [
      "Using cuda:0 device\n"
     ]
    }
   ],
   "source": [
    "import torch\n",
    "from torch.utils.data import SubsetRandomSampler, DataLoader, RandomSampler\n",
    "import torchvision\n",
    "from torchvision import datasets, transforms\n",
    "import os\n",
    "from inclearn.lib import data, factory, losses, network, utils\n",
    "import clip\n",
    "import numpy as np\n",
    "\n",
    "device = \"cuda:0\" if torch.cuda.is_available() else \"cpu\"\n",
    "print(f\"Using {device} device\")"
   ]
  },
  {
   "attachments": {},
   "cell_type": "markdown",
   "metadata": {},
   "source": [
    "# This is base code"
   ]
  },
  {
   "cell_type": "code",
   "execution_count": 6,
   "metadata": {},
   "outputs": [
    {
     "name": "stdout",
     "output_type": "stream",
     "text": [
      "Features dimension is 512.\n"
     ]
    }
   ],
   "source": [
    "model, preprocess = clip.load('ViT-B/32', device=device)\n",
    "out_dim = model.text_projection.shape[1]\n",
    "\n",
    "print(\"Features dimension is {}.\".format(out_dim))\n",
    "\n",
    "model.to(device)\n",
    "model.eval()\n",
    "torch.cuda.empty_cache()"
   ]
  },
  {
   "cell_type": "code",
   "execution_count": 7,
   "metadata": {},
   "outputs": [],
   "source": [
    "class_order = [87, 0, 52, 58, 44, 91, 68, 97, 51, 15, 94, 92, 10, 72, 49, 78, 61, 14, 8, 86, 84, 96, 18, 24, 32, 45, 88, 11, 4, 67, 69, 66, 77, 47, 79, 93, 29, 50, 57, 83, 17, 81, 41, 12, 37, 59, 25, 20, 80, 73, 1, 28, 6, 46, 62, 82, 53, 9, 31, 75, 38, 63, 33, 74, 27, 22, 36, 3, 16, 21, 60, 19, 70, 90, 89, 43, 5, 42, 65, 76, 40, 30, 23, 85, 2, 95, 56, 48, 71, 64, 98, 13, 99, 7, 34, 55, 54, 26, 35, 39]\n",
    "\n",
    "\n",
    "cifar100_train = torchvision.datasets.CIFAR100(root=\"./data\", train=True, transform=preprocess)\n",
    "cifar100_test = torchvision.datasets.CIFAR100(root=\"./data\", train=False, transform=preprocess)\n",
    "\n",
    "train_list = {}\n",
    "test_list = {}\n",
    "for i in range(100):\n",
    "    train_list[i] = []\n",
    "    test_list[i] = []\n",
    "for idx, (X,y) in enumerate(cifar100_train):\n",
    "    train_list[y].append(idx)    \n",
    "for idx, (X,y) in enumerate(cifar100_test):\n",
    "    test_list[y].append(idx)"
   ]
  },
  {
   "cell_type": "code",
   "execution_count": 10,
   "metadata": {},
   "outputs": [],
   "source": [
    "torch.save(train_list,'./exps/zero_train/train_list.pth')"
   ]
  },
  {
   "cell_type": "code",
   "execution_count": 11,
   "metadata": {},
   "outputs": [],
   "source": [
    "torch.save(test_list,'./exps/zero_train/test_list.pth')"
   ]
  },
  {
   "cell_type": "code",
   "execution_count": null,
   "metadata": {},
   "outputs": [],
   "source": [
    "feature_means = np.zeros((100,512))\n",
    "for class_idx in class_order:\n",
    "    class_loader = DataLoader(cifar100_train, shuffle=False, batch_size=500, \n",
    "                            sampler=SubsetRandomSampler(train_list[class_idx]))\n",
    "    with torch.no_grad():\n",
    "        for X, y in class_loader:\n",
    "            X, y = X.to(device), y.to(device)\n",
    "\n",
    "            features = model.encode_image(X).cpu().numpy()\n",
    "            feature_means[class_idx] = features.mean(axis=0)\n",
    "\n",
    "        torch.cuda.empty_cache()"
   ]
  },
  {
   "cell_type": "code",
   "execution_count": null,
   "metadata": {},
   "outputs": [],
   "source": [
    "class_acc = []\n",
    "\n",
    "for class_idx in class_order:\n",
    "    class_loader = DataLoader(cifar100_test, shuffle=False, batch_size=100, \n",
    "                            sampler=SubsetRandomSampler(test_list[class_idx]))\n",
    "    with torch.no_grad():\n",
    "        for X, y in class_loader:\n",
    "            X, y = X.to(device), y.numpy()\n",
    "\n",
    "            features = model.encode_image(X).cpu().numpy()\n",
    "            \n",
    "            dists = -2 * (features@feature_means.T) + np.power(features, 2).sum(axis=1, keepdims=True) + np.power(feature_means, 2).sum(axis=1, keepdims=True).T\n",
    "            preds = dists.argsort()[:,0]\n",
    "            class_acc.append(np.sum(preds == y) / 100)\n",
    "\n",
    "print(class_acc)\n",
    "print(np.mean(class_acc))"
   ]
  },
  {
   "attachments": {},
   "cell_type": "markdown",
   "metadata": {},
   "source": [
    "# Zero trained CLIP model accuracy function"
   ]
  },
  {
   "cell_type": "code",
   "execution_count": 5,
   "metadata": {},
   "outputs": [],
   "source": [
    "def get_zero_acc(model_name):\n",
    "    model, preprocess = clip.load(model_name, device=device)\n",
    "    out_dim = model.text_projection.shape[1]\n",
    "\n",
    "    print(\"Features dimension is {}.\".format(out_dim))\n",
    "\n",
    "    model.to(device)\n",
    "    model.eval()\n",
    "    torch.cuda.empty_cache()\n",
    "\n",
    "    class_order = [87, 0, 52, 58, 44, 91, 68, 97, 51, 15, 94, 92, 10, 72, 49, 78, 61, 14, 8, 86, 84, 96, 18, 24, 32, 45, 88, 11, 4, 67, 69, 66, 77, 47, 79, 93, 29, 50, 57, 83, 17, 81, 41, 12, 37, 59, 25, 20, 80, 73, 1, 28, 6, 46, 62, 82, 53, 9, 31, 75, 38, 63, 33, 74, 27, 22, 36, 3, 16, 21, 60, 19, 70, 90, 89, 43, 5, 42, 65, 76, 40, 30, 23, 85, 2, 95, 56, 48, 71, 64, 98, 13, 99, 7, 34, 55, 54, 26, 35, 39]\n",
    "\n",
    "    cifar100_train = torchvision.datasets.CIFAR100(root=\"./data\", train=True, transform=preprocess)\n",
    "    cifar100_test = torchvision.datasets.CIFAR100(root=\"./data\", train=False, transform=preprocess)\n",
    "\n",
    "    train_list = {}\n",
    "    test_list = {}\n",
    "    for i in range(100):\n",
    "        train_list[i] = []\n",
    "        test_list[i] = []\n",
    "    for idx, (X,y) in enumerate(cifar100_train):\n",
    "        train_list[y].append(idx)    \n",
    "    for idx, (X,y) in enumerate(cifar100_test):\n",
    "        test_list[y].append(idx)\n",
    "    \n",
    "    feature_means = np.zeros((100,out_dim))\n",
    "    for class_idx in class_order:\n",
    "        class_loader = DataLoader(cifar100_train, shuffle=False, batch_size=500, \n",
    "                                sampler=SubsetRandomSampler(train_list[class_idx]))\n",
    "        with torch.no_grad():\n",
    "            for X, y in class_loader:\n",
    "                X, y = X.to(device), y.to(device)\n",
    "\n",
    "                features = model.encode_image(X).cpu().numpy()\n",
    "                feature_means[class_idx] = features.mean(axis=0)\n",
    "\n",
    "            torch.cuda.empty_cache()\n",
    "    \n",
    "    class_acc = []\n",
    "\n",
    "    for class_idx in class_order:\n",
    "        class_loader = DataLoader(cifar100_test, shuffle=False, batch_size=100, \n",
    "                                sampler=SubsetRandomSampler(test_list[class_idx]))\n",
    "        with torch.no_grad():\n",
    "            for X, y in class_loader:\n",
    "                X, y = X.to(device), y.numpy()\n",
    "\n",
    "                features = model.encode_image(X).cpu().numpy()\n",
    "                \n",
    "                dists = -2 * (features@feature_means.T) + np.power(features, 2).sum(axis=1, keepdims=True) + np.power(feature_means, 2).sum(axis=1, keepdims=True).T\n",
    "                preds = dists.argsort()[:,0]\n",
    "                class_acc.append(np.sum(preds == y) / 100)\n",
    "\n",
    "    print(class_acc)\n",
    "    print(np.mean(class_acc))"
   ]
  },
  {
   "cell_type": "code",
   "execution_count": 3,
   "metadata": {},
   "outputs": [
    {
     "name": "stdout",
     "output_type": "stream",
     "text": [
      "RN50\n",
      "\n",
      "RN101\n",
      "\n",
      "RN50x4\n",
      "\n",
      "RN50x16\n",
      "\n",
      "RN50x64\n",
      "\n",
      "ViT-B/32\n",
      "\n",
      "ViT-B/16\n",
      "\n",
      "ViT-L/14\n",
      "\n",
      "ViT-L/14@336px\n",
      "\n"
     ]
    }
   ],
   "source": [
    "for model_name in clip.available_models():\n",
    "    print(model_name)\n",
    "    # get_zero_acc(model_name)\n",
    "    print()"
   ]
  },
  {
   "attachments": {},
   "cell_type": "markdown",
   "metadata": {},
   "source": [
    "# Accuracy to Average Accuracy\n",
    "\n",
    "CIL에서 주로 가져오는 metric이 average accuracy인데, 지금 뽑아놓은 숫자가 그냥 accuracy에 해당하기 때문에 average accuracy화 해줘야 한다."
   ]
  },
  {
   "cell_type": "code",
   "execution_count": 10,
   "metadata": {},
   "outputs": [],
   "source": [
    "import numpy as np\n",
    "\n",
    "def get_average_accuracy(acc,inc):\n",
    "    accs = []\n",
    "    for i in range(50//inc+1):\n",
    "        inc_acc = np.mean(acc[:50+i*inc])\n",
    "        accs.append(inc_acc)\n",
    "\n",
    "    return np.mean(accs), accs[-1]"
   ]
  },
  {
   "cell_type": "code",
   "execution_count": 16,
   "metadata": {},
   "outputs": [
    {
     "name": "stdout",
     "output_type": "stream",
     "text": [
      "Incremental Class Number : 10\n",
      "    Average Accuracy : 0.4599574735449736\n",
      "    Last Accuracy    : 0.47209999999999996\n",
      "Incremental Class Number : 5\n",
      "    Average Accuracy : 0.46005958799073776\n",
      "    Last Accuracy    : 0.47209999999999996\n",
      "Incremental Class Number : 2\n",
      "    Average Accuracy : 0.46065413325291826\n",
      "    Last Accuracy    : 0.47209999999999996\n",
      "Incremental Class Number : 1\n",
      "    Average Accuracy : 0.46095812526214125\n",
      "    Last Accuracy    : 0.47209999999999996\n"
     ]
    }
   ],
   "source": [
    "acc = [0.64, 0.76, 0.69, 0.76, 0.15, 0.37, 0.7, 0.3, 0.38, 0.31, 0.65, 0.32, 0.41, 0.16, 0.77, 0.42, 0.53, 0.39, 0.56, 0.7, 0.37, 0.3, 0.46, 0.63, 0.21, 0.33, 0.23, 0.45, 0.12, 0.31, 0.53, 0.13, 0.35, 0.37, 0.39, 0.12, 0.46, 0.18, 0.6, 0.46, 0.71, 0.58, 0.55, 0.58, 0.67, 0.32, 0.15, 0.75, 0.15, 0.42, 0.55, 0.62, 0.37, 0.68, 0.47, 0.74, 0.76, 0.72, 0.39, 0.38, 0.32, 0.3, 0.55, 0.08, 0.42, 0.54, 0.69, 0.25, 0.65, 0.57, 0.76, 0.49, 0.61, 0.55, 0.62, 0.62, 0.4, 0.33, 0.18, 0.65, 0.39, 0.42, 0.69, 0.59, 0.56, 0.41, 0.55, 0.76, 0.78, 0.24, 0.63, 0.5, 0.71, 0.19, 0.31, 0.17, 0.7, 0.27, 0.47, 0.76]\n",
    "\n",
    "for inc in [10,5,2,1]:\n",
    "    print(\"Incremental Class Number :\", inc)\n",
    "    avg_acc, last_acc = get_average_accuracy(acc,inc)\n",
    "    print(\"    Average Accuracy :\", avg_acc)\n",
    "    print(\"    Last Accuracy    :\", last_acc)"
   ]
  }
 ],
 "metadata": {
  "kernelspec": {
   "display_name": "clvision",
   "language": "python",
   "name": "clvision"
  },
  "language_info": {
   "codemirror_mode": {
    "name": "ipython",
    "version": 3
   },
   "file_extension": ".py",
   "mimetype": "text/x-python",
   "name": "python",
   "nbconvert_exporter": "python",
   "pygments_lexer": "ipython3",
   "version": "3.8.15"
  },
  "orig_nbformat": 4
 },
 "nbformat": 4,
 "nbformat_minor": 2
}
